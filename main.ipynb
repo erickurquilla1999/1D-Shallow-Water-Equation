{
 "cells": [
  {
   "cell_type": "markdown",
   "metadata": {},
   "source": [
    "# Simulation of 1D Shallow Water Equations\n",
    "\n",
    "## Numerical Solution using Finite Element Method"
   ]
  },
  {
   "cell_type": "code",
   "execution_count": 1,
   "metadata": {
    "colab": {
     "base_uri": "https://localhost:8080/",
     "height": 599
    },
    "executionInfo": {
     "elapsed": 495,
     "status": "error",
     "timestamp": 1730254425606,
     "user": {
      "displayName": "Erick Urquilla Orellana",
      "userId": "11768834898050908613"
     },
     "user_tz": 240
    },
    "id": "0l2pxHiOfboG",
    "outputId": "bd21aa9d-a4df-452a-ad60-71e833c92656"
   },
   "outputs": [
    {
     "name": "stdout",
     "output_type": "stream",
     "text": [
      "Generating mesh \n",
      "Physical domain: [0,10] meters\n",
      "Number of elements: 8\n",
      "Nodes per element: 2\n",
      "Lagrange basis order: 1\n",
      "Saving initial conditions\n",
      "Writing step 0 | t = 0.0\n",
      "Writing step 400 | t = 0.4\n",
      "Writing step 800 | t = 0.8\n",
      "Writing step 1200 | t = 1.2\n",
      "Writing step 1600 | t = 1.6\n",
      "Writing step 2000 | t = 2.0\n",
      "Writing step 2400 | t = 2.4\n",
      "Writing step 2800 | t = 2.8\n",
      "Writing step 3200 | t = 3.2\n",
      "Writing step 3600 | t = 3.6\n",
      "Writing step 4000 | t = 4.0\n",
      "Plotting data\n",
      "Plotting step_0.h5\n",
      "Plotting step_400.h5\n",
      "Plotting step_800.h5\n",
      "Plotting step_1200.h5\n",
      "Plotting step_1600.h5\n",
      "Plotting step_2000.h5\n",
      "Plotting step_2400.h5\n",
      "Plotting step_2800.h5\n",
      "Plotting step_3200.h5\n",
      "Plotting step_3600.h5\n",
      "Plotting step_4000.h5\n",
      "Done\n"
     ]
    }
   ],
   "source": [
    "import numpy as np\n",
    "\n",
    "import inputs\n",
    "import grid_generation\n",
    "import basis\n",
    "import initial_conditions\n",
    "import evolve \n",
    "import integrator\n",
    "import plots\n",
    "import test\n",
    "\n",
    "# running some test\n",
    "test.test_lagrange_basis()\n",
    "test.test_lagrange_basis_derivative()\n",
    "test.test_integration()\n",
    "# test.test_mass_matrix()\n",
    "\n",
    "# creating mesh\n",
    "nodes_coordinates_phys_space = grid_generation.generate_1d_mesh(inputs.x_initial,inputs.x_final,inputs.N_elements,inputs.p_basis_order)\n",
    "\n",
    "element_number = np.arange(inputs.N_elements)\n",
    "element_lengths = nodes_coordinates_phys_space[:,-1] - nodes_coordinates_phys_space[:,0]\n",
    "\n",
    "# generating reference space information\n",
    "gauss_weights, basis_values_at_gauss_quad, basis_values_x_derivative_at_gauss_quad, basis_values_at_nodes = basis.generate_reference_space(nodes_coordinates_phys_space,inputs.n_gauss_poins)\n",
    "\n",
    "# generating initial conditions\n",
    "h, u = initial_conditions.generate_initial_conditions(nodes_coordinates_phys_space)\n",
    "\n",
    "# compute entropy : integral 0.5 * ( g * h**2 + h * u ) dx\n",
    "entropy = evolve.compute_entropy(element_lengths, gauss_weights, basis_values_at_gauss_quad, h, u)\n",
    "\n",
    "# wrinting initial conditions file\n",
    "integrator.write_data_file(nodes_coordinates_phys_space,entropy,h,u,False,0)\n",
    "\n",
    "# compute mass matrix M_ij = integral phi_i(x) phi_j(x) dx and return the inverse matrix of M_ij\n",
    "mass_matrix_inverse = evolve.compute_mass_matrix_inverse(element_lengths, gauss_weights, basis_values_at_gauss_quad)\n",
    "\n",
    "# time step\n",
    "time_step = np.array(inputs.t_limit/inputs.n_steps) \n",
    "\n",
    "# evolving in time the PDE\n",
    "for number_of_t_step in np.arange(inputs.n_steps):\n",
    "\n",
    "    # If true using euler method\n",
    "    if inputs.evolution_method==0:\n",
    "        h, u = integrator.euler_method( h, u, time_step, element_number, basis_values_at_gauss_quad, basis_values_x_derivative_at_gauss_quad, gauss_weights, element_lengths, basis_values_at_nodes, mass_matrix_inverse)\n",
    "\n",
    "    # If true using RK4 method\n",
    "    if inputs.evolution_method==1:\n",
    "        h, u = integrator.rk4_method( h, u, time_step, element_number, basis_values_at_gauss_quad, basis_values_x_derivative_at_gauss_quad, gauss_weights, element_lengths, basis_values_at_nodes, mass_matrix_inverse)\n",
    "\n",
    "    # saving the data\n",
    "    if (number_of_t_step+1) % inputs.plot_every_steps == 0:\n",
    "\n",
    "        # compute entropy : integral 0.5 * ( g * h**2 + h * u ) dx\n",
    "        entropy = evolve.compute_entropy(element_lengths, gauss_weights, basis_values_at_gauss_quad, h, u)\n",
    "\n",
    "        # writing data\n",
    "        integrator.write_data_file(nodes_coordinates_phys_space,entropy,h,u,False,number_of_t_step+1)\n",
    "\n",
    "# plotting data\n",
    "plots.plotting()\n",
    "\n",
    "print(f'Done')"
   ]
  },
  {
   "cell_type": "markdown",
   "metadata": {},
   "source": []
  }
 ],
 "metadata": {
  "colab": {
   "authorship_tag": "ABX9TyOiZ5FoHnI6fIOeiyaRKkcu",
   "provenance": []
  },
  "kernelspec": {
   "display_name": "Python 3",
   "name": "python3"
  },
  "language_info": {
   "codemirror_mode": {
    "name": "ipython",
    "version": 3
   },
   "file_extension": ".py",
   "mimetype": "text/x-python",
   "name": "python",
   "nbconvert_exporter": "python",
   "pygments_lexer": "ipython3",
   "version": "3.11.9"
  }
 },
 "nbformat": 4,
 "nbformat_minor": 0
}
