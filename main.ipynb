{
 "cells": [
  {
   "cell_type": "markdown",
   "metadata": {},
   "source": [
    "# Simulation of 1D Shallow Water Equations\n",
    "\n",
    "## Numerical Solution using Finite Element Method"
   ]
  },
  {
   "cell_type": "markdown",
   "metadata": {},
   "source": [
    "### Input Parameters\n",
    "\n",
    "Input parameters are crucial in programming and data analysis for several reasons:\n",
    "\n",
    "1. **Flexibility**: They allow functions and programs to be more flexible and reusable. By passing different input parameters, the same function can perform a variety of tasks without modification.\n",
    "\n",
    "2. **Modularity**: Input parameters help in breaking down complex problems into smaller, manageable pieces. Each function can focus on a specific task, making the code easier to understand and maintain.\n",
    "\n",
    "3. **Scalability**: They enable the handling of different data sets or conditions without changing the core logic of the program. This is particularly important in data analysis, where the same analysis might need to be applied to different data sets.\n",
    "\n",
    "4. **Testing and Debugging**: With input parameters, it is easier to test and debug functions. You can pass different values to the function to see how it behaves, which helps in identifying and fixing issues.\n",
    "\n",
    "5. **Interoperability**: In collaborative environments, input parameters allow different parts of a system to interact seamlessly. Different modules or components can call functions with the required parameters, ensuring smooth integration.\n",
    "\n",
    "Overall, input parameters are a fundamental concept that enhances the functionality, efficiency, and maintainability of code."
   ]
  },
  {
   "cell_type": "code",
   "execution_count": 1,
   "metadata": {},
   "outputs": [],
   "source": [
    "# input parameters\n",
    "\n",
    "# Physical domain \n",
    "x_initial = 0 # (m) initial domain coordinate\n",
    "x_final = 10 # (m) final domain coordinate\n",
    "\n",
    "# DG method\n",
    "N_elements= 16 # number of elements\n",
    "p_basis_order = 2 # lagrange basis order\n",
    "\n",
    "# simulation time\n",
    "n_steps = 4000 # number of time steps\n",
    "t_limit = 4 # (s) simulation time limit\n",
    "\n",
    "# Gauss cuadrature\n",
    "n_gauss_poins = 20 \n",
    "\n",
    "# plotting setting\n",
    "plot_every_steps = 400\n",
    "\n",
    "# PDE evolution method # 0: euler, 1: rk4\n",
    "evolution_method = 1"
   ]
  },
  {
   "cell_type": "code",
   "execution_count": 2,
   "metadata": {
    "colab": {
     "base_uri": "https://localhost:8080/",
     "height": 599
    },
    "executionInfo": {
     "elapsed": 495,
     "status": "error",
     "timestamp": 1730254425606,
     "user": {
      "displayName": "Erick Urquilla Orellana",
      "userId": "11768834898050908613"
     },
     "user_tz": 240
    },
    "id": "0l2pxHiOfboG",
    "outputId": "bd21aa9d-a4df-452a-ad60-71e833c92656"
   },
   "outputs": [
    {
     "name": "stdout",
     "output_type": "stream",
     "text": [
      "Generating mesh \n",
      "Physical domain: [0,10] meters\n",
      "Number of elements: 16\n",
      "Nodes per element: 3\n",
      "Lagrange basis order: 2\n",
      "Saving initial conditions\n",
      "Number of time step : 400 / 4000\n",
      "Writing step 400 | t = 0.4\n",
      "Number of time step : 800 / 4000\n",
      "Writing step 800 | t = 0.8\n",
      "Number of time step : 1200 / 4000\n",
      "Writing step 1200 | t = 1.2\n",
      "Number of time step : 1600 / 4000\n",
      "Writing step 1600 | t = 1.6\n",
      "Number of time step : 2000 / 4000\n",
      "Writing step 2000 | t = 2.0\n",
      "Number of time step : 2400 / 4000\n",
      "Writing step 2400 | t = 2.4\n",
      "Number of time step : 2800 / 4000\n",
      "Writing step 2800 | t = 2.8\n",
      "Number of time step : 3200 / 4000\n",
      "Writing step 3200 | t = 3.2\n",
      "Number of time step : 3600 / 4000\n",
      "Writing step 3600 | t = 3.6\n",
      "Number of time step : 4000 / 4000\n",
      "Writing step 4000 | t = 4.0\n",
      "Done\n"
     ]
    }
   ],
   "source": [
    "import numpy as np\n",
    "\n",
    "# import inputs\n",
    "import grid_generation\n",
    "import basis\n",
    "import initial_conditions\n",
    "import evolve \n",
    "import integrator\n",
    "import test\n",
    "\n",
    "# running some test\n",
    "test.test_lagrange_basis()\n",
    "test.test_lagrange_basis_derivative()\n",
    "test.test_integration()\n",
    "# test.test_mass_matrix()\n",
    "\n",
    "# creating mesh\n",
    "nodes_coordinates_phys_space = grid_generation.generate_1d_mesh(x_initial, x_final, N_elements, p_basis_order)\n",
    "\n",
    "element_number = np.arange(N_elements)\n",
    "element_lengths = nodes_coordinates_phys_space[:,-1] - nodes_coordinates_phys_space[:,0]\n",
    "\n",
    "# generating reference space information\n",
    "gauss_weights, basis_values_at_gauss_quad, basis_values_x_derivative_at_gauss_quad, basis_values_at_nodes = basis.generate_reference_space(nodes_coordinates_phys_space, n_gauss_poins)\n",
    "\n",
    "# generating initial conditions\n",
    "h, u = initial_conditions.generate_initial_conditions(nodes_coordinates_phys_space)\n",
    "\n",
    "# compute entropy : integral 0.5 * ( g * h**2 + h * u ) dx\n",
    "entropy = evolve.compute_entropy(element_lengths, gauss_weights, basis_values_at_gauss_quad, h, u)\n",
    "\n",
    "# compute mass matrix M_ij = integral phi_i(x) phi_j(x) dx and return the inverse matrix of M_ij\n",
    "mass_matrix_inverse = evolve.compute_mass_matrix_inverse(element_lengths, gauss_weights, basis_values_at_gauss_quad)\n",
    "\n",
    "# time step\n",
    "time_step = np.array(t_limit/n_steps) \n",
    "\n",
    "# evolving in time the PDE\n",
    "for number_of_t_step in np.arange(n_steps):\n",
    "\n",
    "    # If true using euler method\n",
    "    if evolution_method==0:\n",
    "        h, u = integrator.euler_method( h, u, time_step, element_number, basis_values_at_gauss_quad, basis_values_x_derivative_at_gauss_quad, gauss_weights, element_lengths, basis_values_at_nodes, mass_matrix_inverse)\n",
    "\n",
    "    # If true using RK4 method\n",
    "    if evolution_method==1:\n",
    "        h, u = integrator.rk4_method( h, u, time_step, element_number, basis_values_at_gauss_quad, basis_values_x_derivative_at_gauss_quad, gauss_weights, element_lengths, basis_values_at_nodes, mass_matrix_inverse)\n",
    "\n",
    "    # saving the data\n",
    "    if (number_of_t_step+1) % plot_every_steps == 0:\n",
    "        print(f'Number of time step : {number_of_t_step+1} / {n_steps}')\n",
    "\n",
    "        # compute entropy : integral 0.5 * ( g * h**2 + h * u ) dx\n",
    "        entropy = evolve.compute_entropy(element_lengths, gauss_weights, basis_values_at_gauss_quad, h, u)\n",
    "\n",
    "        # writing data\n",
    "        integrator.write_data_file(nodes_coordinates_phys_space,entropy,h,u,False,number_of_t_step+1, t_limit, n_steps)\n",
    "\n",
    "print(f'Done')"
   ]
  },
  {
   "cell_type": "code",
   "execution_count": null,
   "metadata": {},
   "outputs": [],
   "source": []
  }
 ],
 "metadata": {
  "colab": {
   "authorship_tag": "ABX9TyOiZ5FoHnI6fIOeiyaRKkcu",
   "provenance": []
  },
  "kernelspec": {
   "display_name": "Python 3",
   "name": "python3"
  },
  "language_info": {
   "codemirror_mode": {
    "name": "ipython",
    "version": 3
   },
   "file_extension": ".py",
   "mimetype": "text/x-python",
   "name": "python",
   "nbconvert_exporter": "python",
   "pygments_lexer": "ipython3",
   "version": "3.11.9"
  }
 },
 "nbformat": 4,
 "nbformat_minor": 0
}
