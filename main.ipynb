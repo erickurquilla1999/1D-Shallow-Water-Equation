{
 "cells": [
  {
   "cell_type": "markdown",
   "metadata": {},
   "source": [
    "# Simulación de Ecuaciones de Agua Poco Profunda en 1D\n",
    "\n",
    "## Solución Numérica usando el Método de Elementos Finitos"
   ]
  },
  {
   "cell_type": "markdown",
   "metadata": {},
   "source": [
    "## Paquetes Utilizados\n",
    "\n",
    "En este proyecto, utilizaremos varios paquetes de Python que nos ayudarán a realizar diferentes tareas de manera eficiente. A continuación, se describen los paquetes que se utilizarán:\n",
    "\n",
    "1. **NumPy**:\n",
    "   - **Descripción**: NumPy es una biblioteca fundamental para la computación científica en Python. Proporciona soporte para arrays y matrices multidimensionales, junto con una colección de funciones matemáticas para operar con estos arrays de manera eficiente.\n",
    "   - **Uso**: En este proyecto, utilizaremos NumPy para realizar cálculos numéricos y manipulación de datos.\n",
    "\n",
    "   ```python\n",
    "   import numpy as np"
   ]
  },
  {
   "cell_type": "code",
   "execution_count": null,
   "metadata": {},
   "outputs": [],
   "source": [
    "import numpy as np\n",
    "import matplotlib.pyplot as plt\n",
    "import numpy as np\n",
    "from IPython.display import clear_output\n",
    "import time\n",
    "\n",
    "import basis\n",
    "import evolve \n",
    "import integrator\n",
    "import test"
   ]
  },
  {
   "cell_type": "markdown",
   "metadata": {},
   "source": [
    "### Input Parameters\n",
    "\n",
    "Input parameters are crucial in programming and data analysis for several reasons:\n",
    "\n",
    "1. **Flexibility**: They allow functions and programs to be more flexible and reusable. By passing different input parameters, the same function can perform a variety of tasks without modification.\n",
    "\n",
    "2. **Modularity**: Input parameters help in breaking down complex problems into smaller, manageable pieces. Each function can focus on a specific task, making the code easier to understand and maintain.\n",
    "\n",
    "3. **Scalability**: They enable the handling of different data sets or conditions without changing the core logic of the program. This is particularly important in data analysis, where the same analysis might need to be applied to different data sets.\n",
    "\n",
    "4. **Testing and Debugging**: With input parameters, it is easier to test and debug functions. You can pass different values to the function to see how it behaves, which helps in identifying and fixing issues.\n",
    "\n",
    "5. **Interoperability**: In collaborative environments, input parameters allow different parts of a system to interact seamlessly. Different modules or components can call functions with the required parameters, ensuring smooth integration.\n",
    "\n",
    "Overall, input parameters are a fundamental concept that enhances the functionality, efficiency, and maintainability of code."
   ]
  },
  {
   "cell_type": "code",
   "execution_count": 64,
   "metadata": {},
   "outputs": [],
   "source": [
    "# input parameters\n",
    "\n",
    "# Physical domain \n",
    "x_initial = 0 # (m) initial domain coordinate\n",
    "x_final = 10 # (m) final domain coordinate\n",
    "\n",
    "# DG method\n",
    "N_elements= 10 # number of elements\n",
    "p_basis_order = 1 # lagrange basis order\n",
    "\n",
    "# simulation time\n",
    "n_steps = 200 # number of time steps\n",
    "t_limit = 1 # (s) simulation time limit\n",
    "\n",
    "# Gauss cuadrature\n",
    "n_gauss_poins = 20 \n",
    "\n",
    "# plotting setting\n",
    "plot_every_steps = 200\n",
    "\n",
    "# PDE evolution method # 0: euler, 1: rk4\n",
    "evolution_method = 1"
   ]
  },
  {
   "cell_type": "markdown",
   "metadata": {},
   "source": [
    "## Generacion de cuadricula de elementos\n",
    "\n",
    "La generación de una malla y una cuadrícula es fundamental en el método de elementos finitos, especialmente en el método de Galerkin discontinuo (DG), por varias razones:\n",
    "\n",
    "1. **Discretización del dominio**: La malla divide el dominio continuo en elementos finitos más pequeños, lo que permite aproximar la solución de la ecuación diferencial en cada uno de estos elementos. En el método DG, cada elemento puede tener su propia solución polinómica, lo que permite capturar discontinuidades y variaciones abruptas en la solución.\n",
    "\n",
    "2. **Flexibilidad en la representación**: La cuadrícula permite representar geometrías complejas y adaptarse a diferentes escalas de variación en la solución. Esto es especialmente útil en problemas donde la solución tiene características locales que requieren una mayor resolución.\n",
    "\n",
    "3. **Precisión y convergencia**: Una malla bien diseñada puede mejorar la precisión de la solución y la tasa de convergencia del método numérico. En el método DG, la elección de la malla y el orden de los polinomios en cada elemento son cruciales para obtener resultados precisos.\n",
    "\n",
    "4. **Implementación de condiciones de contorno**: La malla facilita la implementación de condiciones de contorno, ya que permite definir claramente los límites del dominio y aplicar las condiciones adecuadas en los nodos correspondientes.\n",
    "\n",
    "5. **Paralelización y eficiencia computacional**: La estructura de la malla permite dividir el problema en subproblemas más pequeños que pueden ser resueltos en paralelo, mejorando la eficiencia computacional. En el método DG, cada elemento puede ser tratado de manera independiente, lo que facilita la paralelización.\n",
    "\n",
    "En resumen, la generación de una malla y una cuadrícula es un paso esencial en el método de elementos finitos, ya que permite discretizar el dominio, representar la solución con flexibilidad, mejorar la precisión y eficiencia computacional, y aplicar condiciones de contorno de manera efectiva."
   ]
  },
  {
   "cell_type": "code",
   "execution_count": 72,
   "metadata": {},
   "outputs": [
    {
     "name": "stdout",
     "output_type": "stream",
     "text": [
      "Generando malla \n",
      "Dominio físico: [0,10] metros\n",
      "Número de elementos: 10\n",
      "Nodos por elemento: 2\n",
      "Orden de la base de Lagrange: 1\n"
     ]
    }
   ],
   "source": [
    "def generate_1d_mesh(initial_coord, final_coord, num_elements, basis_order):\n",
    "    \"\"\"\n",
    "    Genera una malla unidimensional (1D) en el dominio físico especificado.\n",
    "\n",
    "    @param initial_coord: Coordenada inicial del dominio físico.\n",
    "    @param final_coord: Coordenada final del dominio físico.\n",
    "    @param num_elements: Número de elementos en la malla.\n",
    "    @param basis_order: Orden de la base de Lagrange.\n",
    "\n",
    "    @return: Coordenadas de los nodos en el espacio físico.\n",
    "    \"\"\"\n",
    "    \n",
    "    print(f'Generando malla \\nDominio físico: [{initial_coord},{final_coord}] metros\\nNúmero de elementos: {num_elements}\\nNodos por elemento: {basis_order+1}\\nOrden de la base de Lagrange: {basis_order}')\n",
    "\n",
    "    # Generar coordenadas de los elementos\n",
    "    elements_division = np.linspace(initial_coord, final_coord, num_elements + 1)\n",
    "\n",
    "    # Calcular las coordenadas de los nodos en el espacio físico dentro de cada elemento\n",
    "    if basis_order != 0:\n",
    "        nodes_coord_phys_space = np.array([np.linspace(elements_division[i], elements_division[i + 1], basis_order + 1) for i in np.arange(num_elements)])\n",
    "    else:\n",
    "        nodes_coord_phys_space = np.array([[elements_division[i] + 0.5 * (elements_division[i+1] - elements_division[i])] for i in np.arange(num_elements)])\n",
    "\n",
    "    return nodes_coord_phys_space\n",
    "\n",
    "nodes_coordinates_phys_space = generate_1d_mesh(x_initial, x_final, N_elements, p_basis_order)\n"
   ]
  },
  {
   "cell_type": "markdown",
   "metadata": {},
   "source": [
    "## Funciones Base de Lagrange\n",
    "\n",
    "Las funciones base de Lagrange son polinomios utilizados en el método de elementos finitos para la interpolación de funciones. Estas funciones tienen varias propiedades importantes que las hacen útiles en la solución numérica de ecuaciones diferenciales parciales.\n",
    "\n",
    "### Definición\n",
    "\n",
    "Para un conjunto de nodos \\( x_0, x_1, \\ldots, x_n \\), las funciones base de Lagrange \\( L_i(x) \\) se definen como:\n",
    "\n",
    "\\[ L_i(x) = \\prod_{\\substack{0 \\le j \\le n \\\\ j \\ne i}} \\frac{x - x_j}{x_i - x_j} \\]\n",
    "\n",
    "donde \\( L_i(x) \\) es un polinomio de grado \\( n \\) que toma el valor 1 en el nodo \\( x_i \\) y 0 en los otros nodos \\( x_j \\) para \\( j \\ne i \\).\n",
    "\n",
    "### Propiedades\n",
    "\n",
    "1. **Interpolación Exacta**: Las funciones base de Lagrange interpolan exactamente los valores en los nodos dados. Es decir, \\( L_i(x_j) = \\delta_{ij} \\), donde \\( \\delta_{ij} \\) es el delta de Kronecker.\n",
    "\n",
    "2. **Ortogonalidad**: Aunque no son ortogonales en el sentido clásico, las funciones base de Lagrange tienen la propiedad de ser mutuamente exclusivas en los nodos, lo que facilita la interpolación.\n",
    "\n",
    "3. **Flexibilidad**: Pueden ser utilizadas para interpolar funciones en cualquier conjunto de nodos, no necesariamente equiespaciados.\n",
    "\n",
    "### Uso en el Método de Elementos Finitos\n",
    "\n",
    "En el método de elementos finitos, las funciones base de Lagrange se utilizan para aproximar la solución de una ecuación diferencial en cada elemento del dominio. La solución aproximada se expresa como una combinación lineal de las funciones base:\n",
    "\n",
    "\\[ u(x) \\approx \\sum_{i=0}^{n} u_i L_i(x) \\]\n",
    "\n",
    "donde \\( u_i \\) son los coeficientes que se determinan mediante la solución del sistema de ecuaciones resultante de la discretización del problema.\n",
    "\n",
    "### Ejemplo\n",
    "\n",
    "Para un elemento con dos nodos (\\( n = 1 \\)), las funciones base de Lagrange son:\n",
    "\n",
    "\\[ L_0(x) = \\frac{x - x_1}{x_0 - x_1} \\]\n",
    "\\[ L_1(x) = \\frac{x - x_0}{x_1 - x_0} \\]\n",
    "\n",
    "Estas funciones se utilizan para interpolar una función \\( u(x) \\) en el intervalo \\([x_0, x_1]\\).\n",
    "\n",
    "En resumen, las funciones base de Lagrange son una herramienta fundamental en la interpolación y aproximación de funciones en el método de elementos finitos, proporcionando una base flexible y eficiente para la solución numérica de ecuaciones diferenciales."
   ]
  },
  {
   "cell_type": "code",
   "execution_count": 73,
   "metadata": {},
   "outputs": [],
   "source": [
    "element_number = np.arange(N_elements)\n",
    "element_lengths = nodes_coordinates_phys_space[:,-1] - nodes_coordinates_phys_space[:,0]\n",
    "\n",
    "# generating reference space information\n",
    "gauss_weights, basis_values_at_gauss_quad, basis_values_x_derivative_at_gauss_quad, basis_values_at_nodes = basis.generate_reference_space(nodes_coordinates_phys_space, n_gauss_poins)\n"
   ]
  },
  {
   "cell_type": "markdown",
   "metadata": {},
   "source": [
    "## Condiciones initiales\n",
    "\n",
    "La función `generate_initial_conditions` tiene como objetivo generar las condiciones iniciales de altura y velocidad en función de las coordenadas de los nodos de todos los elementos.\n",
    "\n",
    "### Desglose de la función:\n",
    "\n",
    "1. **Definición de la altura inicial:**\n",
    "    ```python\n",
    "    def initial_height(x):\n",
    "        h = 1 + 0.1 * np.exp(-(x - 5) ** 2)\n",
    "        return h\n",
    "    ```\n",
    "    Esta función interna `initial_height` calcula la altura inicial `h` en función de la coordenada `x`. Utiliza una fórmula que incluye una constante base de 1 y un término exponencial que depende de la distancia de `x` al valor 5.\n",
    "\n",
    "2. **Definición de la velocidad inicial:**\n",
    "    ```python\n",
    "    def velocity_initial(x):\n",
    "        u = 0\n",
    "        return u\n",
    "    ```\n",
    "    Esta función interna `velocity_initial` asigna una velocidad inicial `u` de 0 para cualquier valor de `x`.\n",
    "\n",
    "3. **Asignación de la altura y velocidad inicial en cada nodo de los elementos:**\n",
    "    ```python\n",
    "    h_height = [np.array([initial_height(x_n) for x_n in nodes_in_elem]) for nodes_in_elem in nodes_coords_all_elem]\n",
    "    u_velocity = [np.array([velocity_initial(x_n) for x_n in nodes_in_elem]) for nodes_in_elem in nodes_coords_all_elem]\n",
    "    ```\n",
    "    Aquí se crean listas de arrays de NumPy que contienen las alturas y velocidades iniciales para cada nodo en cada elemento. Se utiliza una comprensión de listas para aplicar las funciones `initial_height` y `velocity_initial` a cada coordenada `x_n` en los nodos de cada elemento.\n",
    "\n",
    "4. **Conversión a arrays de NumPy:**\n",
    "    ```python\n",
    "    h_height = np.array(h_height)\n",
    "    u_velocity = np.array(u_velocity)\n",
    "    ```\n",
    "    Las listas de alturas y velocidades se convierten en arrays de NumPy para facilitar su manipulación y cálculo posterior.\n",
    "\n",
    "5. **Retorno de las condiciones iniciales:**\n",
    "    ```python\n",
    "    return h_height, u_velocity\n",
    "    ```\n",
    "    La función retorna dos arrays: `h_height` con las alturas iniciales y `u_velocity` con las velocidades iniciales.\n",
    "\n",
    "### Generación de las condiciones iniciales:\n",
    "```python\n",
    "h, u = generate_initial_conditions(nodes_coordinates_phys_space)"
   ]
  },
  {
   "cell_type": "code",
   "execution_count": 67,
   "metadata": {},
   "outputs": [],
   "source": [
    "def generate_initial_conditions(nodes_coords_all_elem):\n",
    "\n",
    "    # initial height as function of x\n",
    "    def initial_height(x):\n",
    "        h=1+0.1*np.exp(-(x-5)**2)\n",
    "        return h\n",
    "\n",
    "    # initial velocity as function of x\n",
    "    def velocity_initial(x):\n",
    "        u=0\n",
    "        return u\n",
    "\n",
    "    # Setting the initial height and velocity in each element node\n",
    "    h_height = [np.array([initial_height(x_n) for x_n in nodes_in_elem]) for nodes_in_elem in nodes_coords_all_elem]\n",
    "    u_velocity = [np.array([velocity_initial(x_n) for x_n in nodes_in_elem]) for nodes_in_elem in nodes_coords_all_elem]\n",
    "    \n",
    "    h_height = np.array(h_height)\n",
    "    u_velocity = np.array(u_velocity)\n",
    "\n",
    "    return h_height, u_velocity\n",
    "\n",
    "# generating initial conditions\n",
    "h, u = generate_initial_conditions(nodes_coordinates_phys_space)"
   ]
  },
  {
   "cell_type": "code",
   "execution_count": 68,
   "metadata": {},
   "outputs": [],
   "source": [
    "# compute mass matrix M_ij = integral phi_i(x) phi_j(x) dx and return the inverse matrix of M_ij\n",
    "mass_matrix_inverse = evolve.compute_mass_matrix_inverse(element_lengths, gauss_weights, basis_values_at_gauss_quad)\n"
   ]
  },
  {
   "cell_type": "code",
   "execution_count": 69,
   "metadata": {},
   "outputs": [],
   "source": [
    "# time step\n",
    "time_step = np.array(t_limit/n_steps) "
   ]
  },
  {
   "cell_type": "code",
   "execution_count": 76,
   "metadata": {},
   "outputs": [
    {
     "data": {
      "image/png": "[encoded data removed]",
      "text/plain": [
       "<Figure size 1000x600 with 1 Axes>"
      ]
     },
     "metadata": {},
     "output_type": "display_data"
    },
    {
     "name": "stdout",
     "output_type": "stream",
     "text": [
      "Done\n"
     ]
    }
   ],
   "source": [
    "\n",
    "# evolving in time the PDE\n",
    "for number_of_t_step in np.arange(n_steps):\n",
    "\n",
    "    # plotting\n",
    "\n",
    "    clear_output(wait=True)  # Clear the output of the current cell    \n",
    "    plt.figure(figsize=(10, 6))\n",
    "    plt.clf()  # Clear the current figure\n",
    "    for i in range(N_elements):\n",
    "        plt.plot(nodes_coordinates_phys_space[i], h[i], color='black', linestyle='-', marker='o')\n",
    "        plt.fill_between(nodes_coordinates_phys_space[i], h[i], 0, color='blue')\n",
    "    plt.ylim(0.8, 1.12)\n",
    "    plt.xlim(0.0, 10.0)\n",
    "    # plt.gca().set_aspect('equal', adjustable='box')  \n",
    "    plt.xlabel('Physical Space')\n",
    "    plt.ylabel('Height (h)')\n",
    "    plt.title(f'Time Step: {number_of_t_step}')\n",
    "    # plt.legend()\n",
    "    # plt.grid(True)\n",
    "    plt.show()\n",
    "    time.sleep(0)  # Pause for a second to see the change\n",
    "\n",
    "    # saving the data\n",
    "    # if (number_of_t_step+1) % plot_every_steps == 0 or number_of_t_step == 0:\n",
    "\n",
    "        # print(f'Number of time step : {number_of_t_step+1} / {n_steps}')\n",
    "\n",
    "        \n",
    "    # If true using euler method\n",
    "    if evolution_method==0:\n",
    "        h, u = integrator.euler_method( h, u, time_step, element_number, basis_values_at_gauss_quad, basis_values_x_derivative_at_gauss_quad, gauss_weights, element_lengths, basis_values_at_nodes, mass_matrix_inverse)\n",
    "\n",
    "    # If true using RK4 method\n",
    "    if evolution_method==1:\n",
    "        h, u = integrator.rk4_method( h, u, time_step, element_number, basis_values_at_gauss_quad, basis_values_x_derivative_at_gauss_quad, gauss_weights, element_lengths, basis_values_at_nodes, mass_matrix_inverse)\n",
    "\n",
    "    # compute entropy : integral 0.5 * ( g * h**2 + h * u ) dx\n",
    "    # entropy = evolve.compute_entropy(element_lengths, gauss_weights, basis_values_at_gauss_quad, h, u)\n",
    "\n",
    "    # writing data\n",
    "    # integrator.write_data_file(nodes_coordinates_phys_space,entropy,h,u,False,number_of_t_step+1, t_limit, n_steps)\n",
    "\n",
    "print(f'Done')"
   ]
  },
  {
   "cell_type": "code",
   "execution_count": null,
   "metadata": {},
   "outputs": [],
   "source": []
  }
 ],
 "metadata": {
  "colab": {
   "authorship_tag": "ABX9TyOiZ5FoHnI6fIOeiyaRKkcu",
   "provenance": []
  },
  "kernelspec": {
   "display_name": "Python 3",
   "name": "python3"
  },
  "language_info": {
   "codemirror_mode": {
    "name": "ipython",
    "version": 3
   },
   "file_extension": ".py",
   "mimetype": "text/x-python",
   "name": "python",
   "nbconvert_exporter": "python",
   "pygments_lexer": "ipython3",
   "version": "3.11.9"
  }
 },
 "nbformat": 4,
 "nbformat_minor": 0
}
