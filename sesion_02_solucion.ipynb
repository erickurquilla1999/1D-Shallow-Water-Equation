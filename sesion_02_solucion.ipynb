{
 "cells": [
  {
   "cell_type": "markdown",
   "metadata": {},
   "source": [
    "# Sesion 1: Taller de tecnicas de modelado computacional de fluidos\n",
    "\n",
    "## Elementos Finitos: Metodo Galerkin Discontinuo\n",
    "\n",
    "**Por: Erick Urquilla, Universidad de Tennessee, Knoxville, USA**\n",
    "\n",
    "Resolveremos las ecuaciones que gobiernan la dinámica de fluidos poco profundos incompresibles. El fluido está limitado inferiormente y a los costados por superficies rígidas y superiormente sin restricción. Estas ecuaciones se derivan de las ecuaciones de Navier-Stokes cuando el dominio espacial horizontal del fluido excede significativamente al vertical, manteniendo el equilibrio hidrostático y densidad constante:\n",
    "\n",
    "$$\n",
    "\\frac{\\partial h}{\\partial t} + \\frac{\\partial}{\\partial x}\\left(hu\\right) = 0\n",
    "$$\n",
    "$$\n",
    "\\frac{\\partial}{\\partial t}\\left(hu\\right) + \\frac{\\partial}{\\partial x}\\left(hu^2 + \\frac{gh^2}{2}\\right) = 0\n",
    "$$\n",
    "\n",
    "Aquí, $h$ es la altura del fluido, $u$ es la velocidad horizontal y $g$ es la aceleración de la gravedad. El movimiento del fluido está dictado exclusivamente por las ecuaciones de conservación de masa y momento."
   ]
  },
  {
   "cell_type": "markdown",
   "metadata": {},
   "source": [
    "## Paquetes utilizados\n",
    "\n",
    "En este proyecto, utilizaremos varios paquetes de Python que nos ayudarán a realizar diferentes tareas de manera eficiente. A continuación, se describen los paquetes que se utilizarán:\n",
    "\n",
    "1. **numPy**\n",
    "2. **matplotlib**\n",
    "3. **IPython**\n",
    "4. **time**"
   ]
  },
  {
   "cell_type": "code",
   "execution_count": 16,
   "metadata": {},
   "outputs": [],
   "source": [
    "import numpy as np\n",
    "import matplotlib.pyplot as plt\n",
    "from IPython.display import clear_output, display\n",
    "import time"
   ]
  },
  {
   "cell_type": "markdown",
   "metadata": {},
   "source": [
    "## Scripts utilizados\n",
    "\n",
    "En esta sesion importaremos los siguientes scripts\n",
    "\n",
    "1. **basis.py**\n",
    "2. **discontinuos_galerkin.py**\n",
    "3. **time_stepping.py**\n",
    "4. **plots.py**\n",
    "\n",
    "Puedes encontrar estos scripts en la misma ruta que este notebook"
   ]
  },
  {
   "cell_type": "code",
   "execution_count": 17,
   "metadata": {},
   "outputs": [],
   "source": [
    "# !git clone --branch curso_unah_sesion_1 --single-branch https://github.com/erickurquilla1999/1D-Shallow-Water-Equation.git\n",
    "# !mv 1D-Shallow-Water-Equation/*.py ./\n",
    "\n",
    "import basis\n",
    "import discontinuos_galerkin \n",
    "import time_stepping\n",
    "import plots"
   ]
  },
  {
   "cell_type": "markdown",
   "metadata": {},
   "source": [
    "## Parámetros de entrada\n",
    "\n",
    "1. Dominio espacial de la simulación\n",
    "2. Número de elementos y número de nodos interiores por elemento\n",
    "3. Tiempo de la simulación y número de pasos\n",
    "4. Número de puntos en la cuadratura de Gauss para integración numérica"
   ]
  },
  {
   "cell_type": "code",
   "execution_count": 18,
   "metadata": {},
   "outputs": [],
   "source": [
    "# Parametros de entrada\n",
    "\n",
    "# Dominio espacial de la simulacion \n",
    "x_inicial = 0 # (m) cooordenda inicial del dominio\n",
    "x_final = 10 # (m) coordenada final del dominio\n",
    "\n",
    "# Parametros del metodo de elementos finitos\n",
    "N_elementos = 6 # numero de elementos\n",
    "N_nodos = 4 # numero de nodos por elemento (por simplicidad solo consideramos N_nodos >= 2)\n",
    "\n",
    "# Dominio temporal \n",
    "n_pasos = 100 # numero de pasos temporales\n",
    "t_total = 1 # (s) tiempo final\n",
    "\n",
    "# Integracion numerica con cuadratura de Gauss\n",
    "n_puntos_cuadratura_gauss = 20"
   ]
  },
  {
   "cell_type": "markdown",
   "metadata": {},
   "source": [
    "## Generacion de malla\n",
    "\n",
    "La generación de una malla es fundamental en el método de elementos finitos. La malla divide el dominio espacial en elementos finitos más pequeños, lo que permite aproximar la solución de la ecuación diferencial en cada uno de estos elementos. En el método Galerkin Discontinuo, cada elemento puede tener su propia solución polinómica, lo que permite capturar discontinuidades y variaciones abruptas en las variables del fluido.\n",
    "\n",
    "**Ejercicio 1:** Dadas las coordenadas inicial `x_inicial`, coordenada final `x_final`, el número de elementos `N_elementos` y el número de nodos por elemento `N_nodos`. Codifica una malla cartesiana unidimensional con las coordenadas de los nodos interiores de cada elemento (elementos y nodos igualmente espaciados en una malla regular). El numpy array resultado del ejercicio debe llamarse `malla`. La forma del array `malla` debe ser `(N_elementos, N_nodos)`. Es decir, el componente `malla[i,j]` representa la coordenada en `x` del nodo `j` del elemento `i`. \n",
    "\n",
    "Como ejemplo, observa la siguiente imagen de una `malla` con `N_elementos=3` y `N_nodos=4`. El arreglo `malla` contiene las posiciones de los nodos interiores de cada elemento.\n",
    "\n",
    "![Malla](imagenes/malla.png)"
   ]
  },
  {
   "cell_type": "code",
   "execution_count": 19,
   "metadata": {},
   "outputs": [
    {
     "name": "stdout",
     "output_type": "stream",
     "text": [
      "Generando malla \n",
      "Dominio físico: [0,10] metros\n",
      "Número de elementos: 6\n",
      "Nodos por elemento: 4\n",
      "\n"
     ]
    }
   ],
   "source": [
    "print(f'Generando malla \\nDominio físico: [{x_inicial},{x_final}] metros\\nNúmero de elementos: {N_elementos}\\nNodos por elemento: {N_nodos}\\n')\n",
    "\n",
    "# Generar coordenadas de los elementos y nodos en el espacio físico\n",
    "malla = np.zeros((N_elementos, N_nodos)) # nunpy array que almacenara las coordenadas de los nodos de cada elemento\n",
    "\n",
    "#-----------------------------------------------------------------------------------------\n",
    "# Escribe tu solucion al ejercicio 1 a continuacion ...\n",
    "malla = np.array([np.linspace(x_inicial + i * (x_final - x_inicial) / N_elementos, x_inicial + (i + 1) * (x_final - x_inicial) / N_elementos, N_nodos) for i in range(N_elementos)])      \n",
    "#-----------------------------------------------------------------------------------------"
   ]
  },
  {
   "cell_type": "markdown",
   "metadata": {},
   "source": [
    "## Condiciones Iniciales\n",
    "\n",
    "Las condiciones iniciales del fluido están dadas por:\n",
    "\n",
    "$$h_0 = 1 + 0.1 e^{-(x-5)^2}$$\n",
    "$$u_0 = 0$$\n",
    "\n",
    "Las fronteras del fluido están ubicadas en $x = 0$ y $x = 10$ metros.\n",
    "\n",
    "**Ejercicio 2:** Crea dos arrays de numpy que contengan las condiciones iniciales:\n",
    "\n",
    "1. El primer array debe llamarse `h` y tener la forma `(N_elementos, N_nodos)`. `h[i,j]` representará la altura en metros del fluido en el nodo $j$ del elemento $i$.\n",
    "2. El segundo array debe llamarse `u` y tener la forma `(N_elementos, N_nodos)`. `u[i,j]` representará la velocidad en metros por segundo del fluido en el nodo $j$ del elemento $i$."
   ]
  },
  {
   "cell_type": "code",
   "execution_count": 20,
   "metadata": {},
   "outputs": [],
   "source": [
    "# Generando condiciones iniciales\n",
    "h = np.zeros((N_elementos, N_nodos)) # Height (cm)\n",
    "u = np.zeros((N_elementos, N_nodos)) # Velocity (cm/s)\n",
    "\n",
    "#-----------------------------------------------------------------------------------------\n",
    "# Escribe tu solucion al ejercicio 2 a continuacion ...\n",
    "h = 1.0 + 0.1 * np.exp( - ( malla - 5.0 )**2 ) # Height (cm)\n",
    "u = malla * 0.0 # Velocity (cm/s)\n",
    "#-----------------------------------------------------------------------------------------"
   ]
  },
  {
   "cell_type": "markdown",
   "metadata": {},
   "source": [
    "## Aproximación funcional de la solución: Polinomios de Lagrange\n",
    "\n",
    "Para crear una solución funcional a la ecuación de agua profunda, usaremos los polinomios de Lagrange definidos como\n",
    "$$\n",
    "\\phi_i(x) = \\prod_{\\substack{0 \\leq m \\leq p \\\\ m \\neq i}} \\frac{x - x_m}{x_i - x_m}.\n",
    "$$\n",
    "Aquí, $x_i$ es la posición del nodo $i$. \n",
    "\n",
    "Los polinomios de Lagrange tienen la siguiente propiedad:\n",
    "$$\n",
    "\\phi_i(x_j) = \\delta_{ij}.\n",
    "$$\n",
    "Utilizando los polinomios de Lagrange, una solución funcional en el elemento $k$ puede escribirse como\n",
    "$$\n",
    "u^{k}(t,x) = \\sum_{i=0}^{N} U^{k}_{i}(t)\\phi_{i}^k(x),\n",
    "$$\n",
    "donde $N$ es el número de nodos en el elemento $k$.\n",
    "\n",
    "**Ejercicio 3:** Escriba una función que, dados los nodos de un elemento, el índice $i$ del polinomio de Lagrange y una posición $x$, retorne el polinomio de Lagrange $i$ evaluado en $x$.\n"
   ]
  },
  {
   "cell_type": "code",
   "execution_count": 21,
   "metadata": {},
   "outputs": [
    {
     "name": "stdout",
     "output_type": "stream",
     "text": [
      "Para los nodos [0 1 2], el polinomio de lagrange i=1 evaluado en x=1 es 1.0\n"
     ]
    }
   ],
   "source": [
    "def polinomios_de_lagrange(nodos, i, x):\n",
    "    '''\n",
    "    Dado un conjunto de nodos en un elemento esta funcion\n",
    "    evalua el polinomio de Lagrange i (es decir el polinomio de \n",
    "    lagrange que es uno cuando es evaluado en la posicion del nodo i) \n",
    "    en x la posicion x\n",
    "\n",
    "    Parámetros:\n",
    "        nodos (numpy.ndarray): Array de nodos de un elemento de la malla.\n",
    "            ejemplo: nodos = np.array([x0, x1, ..., xN]) donde N es el numero de nodos por elemento\n",
    "        i (int): Índice del nodo en el cual el polinomio de lagrange es uno.\n",
    "        x (float): Punto en el cual se evalúa la función base.\n",
    "    Retorna:\n",
    "        float: Valor de la función base de Lagrange i en el punto x.\n",
    "    '''\n",
    "    #-----------------------------------------------------------------------------------------\n",
    "    # Escribe tu solucion al ejercicio 1 a continuacion ...\n",
    "    n = len(nodos)\n",
    "    polinomio_de_lagrange_i_evaluado_en_x = 1.0\n",
    "    for j in range(n):\n",
    "        if j != i:\n",
    "            polinomio_de_lagrange_i_evaluado_en_x *= (x - nodos[j]) / (nodos[i] - nodos[j])\n",
    "    return polinomio_de_lagrange_i_evaluado_en_x\n",
    "    #-----------------------------------------------------------------------------------------\n",
    "\n",
    "# Verifica que tu solucion satisface la propiedad de los polinomios de lagrange \n",
    "# \\phi_i(x_j) = \\delta_{ij}\n",
    "nodos_prueba = np.array([0, 1, 2])\n",
    "i_prueba = 1\n",
    "x_prueba = 1\n",
    "phi_prueba = polinomios_de_lagrange(nodos_prueba, i_prueba, x_prueba)\n",
    "print(f\"Para los nodos {nodos_prueba}, el polinomio de lagrange i={i_prueba} evaluado en x={x_prueba} es {phi_prueba}\")"
   ]
  },
  {
   "cell_type": "markdown",
   "metadata": {},
   "source": [
    "## La siguiente de codigo calcula:\n",
    "\n",
    "1. Los pesos de Gauss\n",
    "2. Evalua los polinomios de lagrange en la cuadratura de Gauss\n",
    "3. Evalua las derivada en $x$ de los polinomios de lagrange en la cuadratura de Gauss"
   ]
  },
  {
   "cell_type": "code",
   "execution_count": 26,
   "metadata": {},
   "outputs": [],
   "source": [
    "pesos_gauss, polinomios_de_lagrange_en_cuadratura_de_gauss, derivada_x_polinomios_de_lagrange_en_cuadratura_de_gauss = basis.generate_reference_space(malla, n_puntos_cuadratura_gauss, polinomios_de_lagrange)"
   ]
  },
  {
   "cell_type": "markdown",
   "metadata": {},
   "source": [
    "## Calculo de la matriz de masa"
   ]
  },
  {
   "cell_type": "code",
   "execution_count": 27,
   "metadata": {},
   "outputs": [
    {
     "name": "stdout",
     "output_type": "stream",
     "text": [
      "Matriz de masa inversa: \n",
      "[[ 9.6        -1.51111111  0.71111111 -2.4       ]\n",
      " [-1.51111111  1.83045267  0.03621399  0.71111111]\n",
      " [ 0.71111111  0.03621399  1.83045267 -1.51111111]\n",
      " [-2.4         0.71111111 -1.51111111  9.6       ]]\n"
     ]
    }
   ],
   "source": [
    "def calcula_inversa_matriz_de_masa(malla_, pesos_gauss, polinomios_de_lagrange_en_cuadratura_de_gauss):\n",
    "    \n",
    "    longitud_de_elementos = malla_[0,-1] - malla_[0,0] # longitud de los elementos\n",
    "    pesos_gauss = pesos_gauss[0] # pesos de la cuadratura de gauss\n",
    "    polinomios_de_lagrange_en_cuadratura_de_gauss = polinomios_de_lagrange_en_cuadratura_de_gauss[0] # polinomios de lagrange evaluados en los puntos de la cuadratura de gauss\n",
    "    matriz_de_massa = 0.5 * longitud_de_elementos * np.dot(polinomios_de_lagrange_en_cuadratura_de_gauss.T * pesos_gauss, polinomios_de_lagrange_en_cuadratura_de_gauss)\n",
    "    inversa_matriz_de_massa = np.linalg.inv(matriz_de_massa)\n",
    "    return inversa_matriz_de_massa\n",
    "\n",
    "# calcula la matriz de masa inversa, esto es la inversa de la matriz: M_ij = integral phi_i(x) phi_j(x) dx\n",
    "matriz_de_masa_inversa = calcula_inversa_matriz_de_masa(malla, pesos_gauss, polinomios_de_lagrange_en_cuadratura_de_gauss)\n",
    "print(f\"Matriz de masa inversa: \\n{matriz_de_masa_inversa}\")"
   ]
  },
  {
   "cell_type": "code",
   "execution_count": 29,
   "metadata": {},
   "outputs": [
    {
     "name": "stdout",
     "output_type": "stream",
     "text": [
      "Matriz de rigidez:\n",
      "[[-5.00000000e-01 -7.12500000e-01  3.00000000e-01 -8.75000000e-02]\n",
      " [ 7.12500000e-01 -1.72769927e-16 -1.01250000e+00  3.00000000e-01]\n",
      " [-3.00000000e-01  1.01250000e+00  1.64781186e-16 -7.12500000e-01]\n",
      " [ 8.75000000e-02 -3.00000000e-01  7.12500000e-01  5.00000000e-01]]\n"
     ]
    }
   ],
   "source": [
    "def calcula_matrix_de_rigidez(malla_, pesos_gauss, polinomios_de_lagrange_en_cuadratura_de_gauss, derivada_x_polinomios_de_lagrange_en_cuadratura_de_gauss):\n",
    "    \n",
    "    longitud_de_elementos = malla_[0,-1] - malla_[0,0] # longitud de los elementos\n",
    "    pesos_gauss = pesos_gauss[0] # pesos de la cuadratura de gauss\n",
    "    polinomios_de_lagrange_en_cuadratura_de_gauss = polinomios_de_lagrange_en_cuadratura_de_gauss[0] # polinomios de lagrange evaluados en los puntos de la cuadratura de gauss\n",
    "    derivada_x_polinomios_de_lagrange_en_cuadratura_de_gauss = derivada_x_polinomios_de_lagrange_en_cuadratura_de_gauss[0] # derivadas de los polinomios de lagrange evaluados en los puntos de la cuadratura de gauss\n",
    "    matriz_de_rigidez = 0.5 * longitud_de_elementos * np.dot(derivada_x_polinomios_de_lagrange_en_cuadratura_de_gauss.T * pesos_gauss, polinomios_de_lagrange_en_cuadratura_de_gauss)\n",
    "    return matriz_de_rigidez\n",
    "\n",
    "# calcula la matriz de rigidez S_ij = integral (dphi_i(x)/dx)phi_j(x) dx\n",
    "matriz_de_rigidez = calcula_matrix_de_rigidez(malla, pesos_gauss, polinomios_de_lagrange_en_cuadratura_de_gauss, derivada_x_polinomios_de_lagrange_en_cuadratura_de_gauss)\n",
    "print(f\"Matriz de rigidez:\\n{matriz_de_rigidez}\")"
   ]
  },
  {
   "cell_type": "markdown",
   "metadata": {},
   "source": [
    "### Ejecuta el siguiente código para comprobar que tu solución a los ejercicios es válida. Como resultado, deberías ver la evolución temporal del fluido.\n"
   ]
  },
  {
   "cell_type": "code",
   "execution_count": null,
   "metadata": {},
   "outputs": [],
   "source": [
    "# time step\n",
    "time_step = np.array(t_total/n_pasos) \n",
    "\n",
    "# evolving in time the PDE\n",
    "for number_of_t_step in np.arange(n_pasos):\n",
    "\n",
    "    # Fordward euler time stepping method\n",
    "    h, u = time_stepping.euler_method( h, u, time_step, polinomios_de_lagrange_en_cuadratura_de_gauss, derivada_x_polinomios_de_lagrange_en_cuadratura_de_gauss, pesos_gauss, malla, matriz_de_masa_inversa)\n",
    "\n",
    "    # RK4 time stepping method\n",
    "    # h, u = integrator.rk4_method( h, u, time_step, polinomios_de_lagrange_en_cuadratura_de_gauss, derivada_x_polinomios_de_lagrange_en_cuadratura_de_gauss, gauss_weights, malla, matriz_de_masa_inversa)\n",
    "\n",
    "    # plotting\n",
    "    plots.plot_simulation(malla, h, u, N_elementos, time_step, number_of_t_step)\n",
    "\n",
    "print(f'Done')"
   ]
  }
 ],
 "metadata": {
  "colab": {
   "authorship_tag": "ABX9TyOiZ5FoHnI6fIOeiyaRKkcu",
   "provenance": []
  },
  "kernelspec": {
   "display_name": "Python 3",
   "name": "python3"
  },
  "language_info": {
   "codemirror_mode": {
    "name": "ipython",
    "version": 3
   },
   "file_extension": ".py",
   "mimetype": "text/x-python",
   "name": "python",
   "nbconvert_exporter": "python",
   "pygments_lexer": "ipython3",
   "version": "3.11.9"
  }
 },
 "nbformat": 4,
 "nbformat_minor": 0
}
