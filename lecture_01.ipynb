{
 "cells": [
  {
   "cell_type": "markdown",
   "metadata": {},
   "source": [
    "# Sesion 1: Taller de tecnicas de modelado de fluidos\n",
    "\n",
    "## Solución Numérica usando Elementos Finitos (Galerkin Discontinuo)\n",
    "\n",
    "**Por: Erick Urquilla, Universidad de Tennessee, Knoxville, USA**\n",
    "\n",
    "Resolveremos las ecuaciones que gobiernan la dinámica de fluidos en capas delgadas, limitadas inferiormente por una superficie rígida y superiormente por una superficie libre. Estas se derivan de las ecuaciones de Navier-Stokes cuando el dominio espacial horizontal del fluido excede significativamente al vertical, manteniendo el equilibrio hidrostático y densidad constante:\n",
    "\n",
    "$$\n",
    "\\frac{\\partial h}{\\partial t} + \\frac{\\partial}{\\partial x}\\left(hu\\right) = 0\n",
    "$$\n",
    "$$\n",
    "\\frac{\\partial}{\\partial t}\\left(hu\\right) + \\frac{\\partial}{\\partial x}\\left(hu^2 + \\frac{gh^2}{2}\\right) = 0\n",
    "$$\n",
    "\n",
    "Aquí, $h$ es la altura del fluido, $u$ es la velocidad horizontal y $g$ es la aceleración de la gravedad. El movimiento del fluido está dictado exclusivamente por las ecuaciones de conservación de masa (primera) y momento (segunda)."
   ]
  },
  {
   "cell_type": "markdown",
   "metadata": {},
   "source": [
    "## Paquetes Utilizados\n",
    "\n",
    "En este proyecto, utilizaremos varios paquetes de Python que nos ayudarán a realizar diferentes tareas de manera eficiente. A continuación, se describen los paquetes que se utilizarán:\n",
    "\n",
    "1. **numPy**\n",
    "2. **matplotlib**\n",
    "3. **time**"
   ]
  },
  {
   "cell_type": "code",
   "execution_count": 22,
   "metadata": {},
   "outputs": [],
   "source": [
    "import numpy as np\n",
    "import matplotlib.pyplot as plt\n",
    "from IPython.display import clear_output\n",
    "import time"
   ]
  },
  {
   "cell_type": "markdown",
   "metadata": {},
   "source": [
    "## Scripts Utiliados\n",
    "\n",
    "En esta sesion importaremos los siguientes scripts\n",
    "\n",
    "1. **basis.py**\n",
    "2. **evolve.py**\n",
    "3. **integrator.py**\n",
    "\n",
    "Puedes encontrar estos scripts en la misma ruta que este notebook"
   ]
  },
  {
   "cell_type": "code",
   "execution_count": 23,
   "metadata": {},
   "outputs": [],
   "source": [
    "import basis\n",
    "import evolve \n",
    "import integrator"
   ]
  },
  {
   "cell_type": "markdown",
   "metadata": {},
   "source": [
    "## Parámetros de entrada\n",
    "\n",
    "1. Dominio espacial de la simulación\n",
    "2. Número de elementos y número de nodos interiores por elemento\n",
    "3. Tiempo de la simulación y número de pasos\n",
    "4. Número de puntos en la cuadratura de Gauss para integración numérica"
   ]
  },
  {
   "cell_type": "code",
   "execution_count": 24,
   "metadata": {},
   "outputs": [],
   "source": [
    "# Parametros de entrada\n",
    "\n",
    "# Dominio espacial de la simulacion \n",
    "x_initial = 0 # (m) cooordenda inicial del dominio\n",
    "x_final = 10 # (m) coordenada final del dominio\n",
    "\n",
    "# Parametros del metodo de elementos finitos\n",
    "N_elements= 10 # numero de elementos\n",
    "N_nodos = 3 # numero de nodos por elemento\n",
    "p_basis_order = N_nodos - 1 # Orden de los polinomios de lagrange para la base\n",
    "\n",
    "# Dominio temporal \n",
    "n_steps = 200 # numero de pasos temporales\n",
    "t_limit = 1 # (s) tiempo final\n",
    "\n",
    "# Integracion numerica con cuadratura de Gauss\n",
    "n_gauss_poins = 20"
   ]
  },
  {
   "cell_type": "markdown",
   "metadata": {},
   "source": [
    "## Generacion de cuadricula de elementos\n",
    "\n",
    "La generación de una malla y una cuadrícula es fundamental en el método de elementos finitos, especialmente en el método de Galerkin discontinuo (DG), por varias razones:\n",
    "\n",
    "1. **Discretización del dominio**: La malla divide el dominio continuo en elementos finitos más pequeños, lo que permite aproximar la solución de la ecuación diferencial en cada uno de estos elementos. En el método DG, cada elemento puede tener su propia solución polinómica, lo que permite capturar discontinuidades y variaciones abruptas en la solución.\n",
    "\n",
    "2. **Flexibilidad en la representación**: La cuadrícula permite representar geometrías complejas y adaptarse a diferentes escalas de variación en la solución. Esto es especialmente útil en problemas donde la solución tiene características locales que requieren una mayor resolución.\n",
    "\n",
    "3. **Precisión y convergencia**: Una malla bien diseñada puede mejorar la precisión de la solución y la tasa de convergencia del método numérico. En el método DG, la elección de la malla y el orden de los polinomios en cada elemento son cruciales para obtener resultados precisos.\n",
    "\n",
    "4. **Implementación de condiciones de contorno**: La malla facilita la implementación de condiciones de contorno, ya que permite definir claramente los límites del dominio y aplicar las condiciones adecuadas en los nodos correspondientes.\n",
    "\n",
    "5. **Paralelización y eficiencia computacional**: La estructura de la malla permite dividir el problema en subproblemas más pequeños que pueden ser resueltos en paralelo, mejorando la eficiencia computacional. En el método DG, cada elemento puede ser tratado de manera independiente, lo que facilita la paralelización.\n",
    "\n",
    "En resumen, la generación de una malla y una cuadrícula es un paso esencial en el método de elementos finitos, ya que permite discretizar el dominio, representar la solución con flexibilidad, mejorar la precisión y eficiencia computacional, y aplicar condiciones de contorno de manera efectiva."
   ]
  },
  {
   "cell_type": "code",
   "execution_count": 25,
   "metadata": {},
   "outputs": [
    {
     "name": "stdout",
     "output_type": "stream",
     "text": [
      "Generando malla \n",
      "Dominio físico: [0,10] metros\n",
      "Número de elementos: 10\n",
      "Nodos por elemento: 3\n",
      "Orden de la base de Lagrange: 2\n",
      "\n",
      "Nodos interiores de elemento 0: [0.  0.5 1. ]\n",
      "Nodos interiores de elemento 1: [1.  1.5 2. ]\n",
      "Nodos interiores de elemento 2: [2.  2.5 3. ]\n",
      "Nodos interiores de elemento 3: [3.  3.5 4. ]\n",
      "Nodos interiores de elemento 4: [4.  4.5 5. ]\n",
      "Nodos interiores de elemento 5: [5.  5.5 6. ]\n",
      "Nodos interiores de elemento 6: [6.  6.5 7. ]\n",
      "Nodos interiores de elemento 7: [7.  7.5 8. ]\n",
      "Nodos interiores de elemento 8: [8.  8.5 9. ]\n",
      "Nodos interiores de elemento 9: [ 9.   9.5 10. ]\n"
     ]
    }
   ],
   "source": [
    "def generate_1d_mesh(initial_coord, final_coord, num_elements, num_nodos_interiores):\n",
    "    \"\"\"\n",
    "    Genera una malla unidimensional (1D) en el dominio físico especificado.\n",
    "\n",
    "    @param initial_coord: Coordenada inicial del dominio físico.\n",
    "    @param final_coord: Coordenada final del dominio físico.\n",
    "    @param num_elements: Número de elementos en la malla.\n",
    "    @param basis_order: Orden de la base de Lagrange.\n",
    "\n",
    "    @return: Coordenadas de los nodos en el espacio físico.\n",
    "    \"\"\"\n",
    "    \n",
    "    print(f'Generando malla \\nDominio físico: [{initial_coord},{final_coord}] metros\\nNúmero de elementos: {num_elements}\\nNodos por elemento: {num_nodos_interiores}\\nOrden de la base de Lagrange: {num_nodos_interiores - 1}\\n')\n",
    "\n",
    "    basis_order = num_nodos_interiores - 1\n",
    "\n",
    "    # Generar coordenadas de los elementos\n",
    "    elements_division = np.linspace(initial_coord, final_coord, num_elements + 1)\n",
    "\n",
    "    # Calcular las coordenadas de los nodos en el espacio físico dentro de cada elemento\n",
    "    if basis_order != 0:\n",
    "        nodes_coord_phys_space = np.array([np.linspace(elements_division[i], elements_division[i + 1], basis_order + 1) for i in np.arange(num_elements)])\n",
    "    else:\n",
    "        nodes_coord_phys_space = np.array([[elements_division[i] + 0.5 * (elements_division[i+1] - elements_division[i])] for i in np.arange(num_elements)])\n",
    "\n",
    "    return nodes_coord_phys_space\n",
    "\n",
    "mesh = generate_1d_mesh(x_initial, x_final, N_elements, N_nodos)\n",
    "\n",
    "# Imprimir las coordenadas de los nodos en el espacio físico\n",
    "for i in range(N_elements):\n",
    "    print(f'Nodos interiores de elemento {i}: {mesh[i]}')"
   ]
  },
  {
   "cell_type": "markdown",
   "metadata": {},
   "source": [
    "## Condiciones initiales"
   ]
  },
  {
   "cell_type": "code",
   "execution_count": 26,
   "metadata": {},
   "outputs": [],
   "source": [
    "h = 1.0 + 0.1 * np.exp( - ( mesh - 5.0 )**2 ) # Height (cm)\n",
    "u = mesh * 0.0 # Velocity (cm/s)"
   ]
  },
  {
   "cell_type": "code",
   "execution_count": 28,
   "metadata": {},
   "outputs": [
    {
     "data": {
      "image/png": "[encoded data removed]",
      "text/plain": [
       "<Figure size 1000x600 with 1 Axes>"
      ]
     },
     "metadata": {},
     "output_type": "display_data"
    },
    {
     "name": "stdout",
     "output_type": "stream",
     "text": [
      "Done\n"
     ]
    }
   ],
   "source": [
    "element_number = np.arange(N_elements)\n",
    "element_lengths = mesh[:,-1] - mesh[:,0]\n",
    "\n",
    "# generating reference space information\n",
    "gauss_weights, basis_values_at_gauss_quad, basis_values_x_derivative_at_gauss_quad, basis_values_at_nodes = basis.generate_reference_space(mesh, n_gauss_poins)\n",
    "\n",
    "# compute mass matrix M_ij = integral phi_i(x) phi_j(x) dx and return the inverse matrix of M_ij\n",
    "mass_matrix_inverse = evolve.compute_mass_matrix_inverse(element_lengths, gauss_weights, basis_values_at_gauss_quad)\n",
    "\n",
    "# time step\n",
    "time_step = np.array(t_limit/n_steps) \n",
    "\n",
    "# evolving in time the PDE\n",
    "for number_of_t_step in np.arange(n_steps):\n",
    "\n",
    "    # plotting\n",
    "    clear_output(wait=True)  # Clear the output of the current cell    \n",
    "    plt.figure(figsize=(10, 6))\n",
    "    plt.clf()  # Clear the current figure\n",
    "    for i in range(N_elements):\n",
    "        plt.plot(mesh[i], h[i], linestyle='-', marker='o')\n",
    "        plt.fill_between(mesh[i], h[i], 0, color='blue')\n",
    "    plt.ylim(0.8, 1.12)\n",
    "    plt.xlim(0.0, 10.0)\n",
    "    # plt.gca().set_aspect('equal', adjustable='box')  \n",
    "    plt.xlabel('Physical Space')\n",
    "    plt.ylabel('Height (h)')\n",
    "    plt.title(f'Time Step: {number_of_t_step}')\n",
    "    # plt.legend()\n",
    "    # plt.grid(True)\n",
    "    plt.show()\n",
    "    time.sleep(0)  # Pause for a second to see the change\n",
    "\n",
    "    # Fordward euler time stepping method\n",
    "    # h, u = integrator.euler_method( h, u, time_step, element_number, basis_values_at_gauss_quad, basis_values_x_derivative_at_gauss_quad, gauss_weights, element_lengths, basis_values_at_nodes, mass_matrix_inverse)\n",
    "\n",
    "    # RK4 time stepping method\n",
    "    h, u = integrator.rk4_method( h, u, time_step, element_number, basis_values_at_gauss_quad, basis_values_x_derivative_at_gauss_quad, gauss_weights, element_lengths, basis_values_at_nodes, mass_matrix_inverse)\n",
    "\n",
    "print(f'Done')"
   ]
  }
 ],
 "metadata": {
  "colab": {
   "authorship_tag": "ABX9TyOiZ5FoHnI6fIOeiyaRKkcu",
   "provenance": []
  },
  "kernelspec": {
   "display_name": "Python 3",
   "name": "python3"
  },
  "language_info": {
   "codemirror_mode": {
    "name": "ipython",
    "version": 3
   },
   "file_extension": ".py",
   "mimetype": "text/x-python",
   "name": "python",
   "nbconvert_exporter": "python",
   "pygments_lexer": "ipython3",
   "version": "3.11.9"
  }
 },
 "nbformat": 4,
 "nbformat_minor": 0
}
