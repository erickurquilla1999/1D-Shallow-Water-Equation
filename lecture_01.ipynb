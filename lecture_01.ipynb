{
 "cells": [
  {
   "cell_type": "markdown",
   "metadata": {},
   "source": [
    "# Sesion 1: Taller de tecnicas de modelado computacional de fluidos\n",
    "\n",
    "## Elementos Finitos: Metodo Galerkin Discontinuo\n",
    "\n",
    "**Por: Erick Urquilla, Universidad de Tennessee, Knoxville, USA**\n",
    "\n",
    "Resolveremos las ecuaciones que gobiernan la dinámica de fluidos poco profundos incompresibles. El fluido está limitado inferiormente y a los costados por superficies rígidas y superiormente sin restricción. Estas ecuaciones se derivan de las ecuaciones de Navier-Stokes cuando el dominio espacial horizontal del fluido excede significativamente al vertical, manteniendo el equilibrio hidrostático y densidad constante:\n",
    "\n",
    "$$\n",
    "\\frac{\\partial h}{\\partial t} + \\frac{\\partial}{\\partial x}\\left(hu\\right) = 0\n",
    "$$\n",
    "$$\n",
    "\\frac{\\partial}{\\partial t}\\left(hu\\right) + \\frac{\\partial}{\\partial x}\\left(hu^2 + \\frac{gh^2}{2}\\right) = 0\n",
    "$$\n",
    "\n",
    "Aquí, $h$ es la altura del fluido, $u$ es la velocidad horizontal y $g$ es la aceleración de la gravedad. El movimiento del fluido está dictado exclusivamente por las ecuaciones de conservación de masa y momento."
   ]
  },
  {
   "cell_type": "markdown",
   "metadata": {},
   "source": [
    "## Paquetes utilizados\n",
    "\n",
    "En este proyecto, utilizaremos varios paquetes de Python que nos ayudarán a realizar diferentes tareas de manera eficiente. A continuación, se describen los paquetes que se utilizarán:\n",
    "\n",
    "1. **numPy**\n",
    "2. **matplotlib**\n",
    "3. **time**"
   ]
  },
  {
   "cell_type": "code",
   "execution_count": 1,
   "metadata": {},
   "outputs": [],
   "source": [
    "import numpy as np\n",
    "import matplotlib.pyplot as plt\n",
    "from IPython.display import clear_output\n",
    "import time"
   ]
  },
  {
   "cell_type": "markdown",
   "metadata": {},
   "source": [
    "## Scripts utilizados\n",
    "\n",
    "En esta sesion importaremos los siguientes scripts\n",
    "\n",
    "1. **basis.py**\n",
    "2. **evolve.py**\n",
    "3. **integrator.py**\n",
    "\n",
    "Puedes encontrar estos scripts en la misma ruta que este notebook"
   ]
  },
  {
   "cell_type": "code",
   "execution_count": 2,
   "metadata": {},
   "outputs": [],
   "source": [
    "import basis\n",
    "import evolve \n",
    "import integrator"
   ]
  },
  {
   "cell_type": "markdown",
   "metadata": {},
   "source": [
    "## Parámetros de entrada\n",
    "\n",
    "1. Dominio espacial de la simulación\n",
    "2. Número de elementos y número de nodos interiores por elemento\n",
    "3. Tiempo de la simulación y número de pasos\n",
    "4. Número de puntos en la cuadratura de Gauss para integración numérica"
   ]
  },
  {
   "cell_type": "code",
   "execution_count": 3,
   "metadata": {},
   "outputs": [],
   "source": [
    "# Parametros de entrada\n",
    "\n",
    "# Dominio espacial de la simulacion \n",
    "x_inicial = 0 # (m) cooordenda inicial del dominio\n",
    "x_final = 10 # (m) coordenada final del dominio\n",
    "\n",
    "# Parametros del metodo de elementos finitos\n",
    "N_elementos = 10 # numero de elementos\n",
    "N_nodos = 2 # numero de nodos por elemento (por simplicidad solo consideramos N_nodos >= 2)\n",
    "\n",
    "# Dominio temporal \n",
    "n_pasos = 200 # numero de pasos temporales\n",
    "t_total = 4 # (s) tiempo final\n",
    "\n",
    "# Integracion numerica con cuadratura de Gauss\n",
    "n_puntos_cuadratura_gauss = 20"
   ]
  },
  {
   "cell_type": "markdown",
   "metadata": {},
   "source": [
    "## Generacion de malla\n",
    "\n",
    "La generación de una malla es fundamental en el método de elementos finitos. La malla divide el dominio espacial en elementos finitos más pequeños, lo que permite aproximar la solución de la ecuación diferencial en cada uno de estos elementos. En el método Galerkin Discontinuo, cada elemento puede tener su propia solución polinómica, lo que permite capturar discontinuidades y variaciones abruptas en las variables del fluido.\n",
    "\n",
    "**Ejercicio 1:** Dadas las coordenadas inicial `x_inicial`, coordenada final `x_final`, el número de elementos `N_elementos` y el número de nodos por elemento `N_nodos`. Codifica una malla cartesiana unidimensional con las coordenadas de los nodos interiores de cada elemento (elementos y nodos igualmente espaciados en una malla regular). El numpy array resultado del ejercicio debe llamarse `malla`. La forma del array `malla` debe ser `(N_elementos, N_nodos)`. Es decir, el componente `malla[i,j]` representa la coordenada en `x` del nodo `j` del elemento `i`. \n",
    "\n",
    "Como ejemplo, observa la siguiente imagen de una `malla` con `N_elementos=3` y `N_nodos=4`. El arreglo `malla` contiene las posiciones de los nodos interiores de cada elemento.\n",
    "\n",
    "![Malla](imagenes/malla.png)"
   ]
  },
  {
   "cell_type": "code",
   "execution_count": 4,
   "metadata": {},
   "outputs": [
    {
     "name": "stdout",
     "output_type": "stream",
     "text": [
      "Generando malla \n",
      "Dominio físico: [0,10] metros\n",
      "Número de elementos: 10\n",
      "Nodos por elemento: 2\n",
      "\n",
      "Nodos interiores de elemento 0: [0. 1.] metros\n",
      "Nodos interiores de elemento 1: [1. 2.] metros\n",
      "Nodos interiores de elemento 2: [2. 3.] metros\n",
      "Nodos interiores de elemento 3: [3. 4.] metros\n",
      "Nodos interiores de elemento 4: [4. 5.] metros\n",
      "Nodos interiores de elemento 5: [5. 6.] metros\n",
      "Nodos interiores de elemento 6: [6. 7.] metros\n",
      "Nodos interiores de elemento 7: [7. 8.] metros\n",
      "Nodos interiores de elemento 8: [8. 9.] metros\n",
      "Nodos interiores de elemento 9: [ 9. 10.] metros\n"
     ]
    }
   ],
   "source": [
    "print(f'Generando malla \\nDominio físico: [{x_inicial},{x_final}] metros\\nNúmero de elementos: {N_elementos}\\nNodos por elemento: {N_nodos}\\n')\n",
    "\n",
    "# Generar coordenadas de los elementos y nodos en el espacio físico\n",
    "malla = np.zeros((N_elementos, N_nodos)) # nunpy array que almacenara las coordenadas de los nodos de cada elemento\n",
    "\n",
    "#-----------------------------------------------------------------------------------------\n",
    "# Escribe tu solucion al ejercicio 1 a continuacion ...\n",
    "\n",
    "\n",
    "\n",
    "\n",
    "#-----------------------------------------------------------------------------------------\n",
    "\n",
    "# Primer posible solucion 1\n",
    "malla = np.array([np.linspace(x_inicial + i * (x_final - x_inicial) / N_elementos, x_inicial + (i + 1) * (x_final - x_inicial) / N_elementos, N_nodos) for i in range(N_elementos)])\n",
    "\n",
    "\n",
    "# Segunda posible solucion\n",
    "dx_elemento = (x_final - x_inicial) / N_elementos # longitud de cada elemento\n",
    "dx_nodos = dx_elemento / (N_nodos - 1) # distancia entre nodos\n",
    "malla = np.zeros((N_elementos, N_nodos)) # matriz que almacena las coordenadas de los nodos de cada elemento\n",
    "for i in range(N_elementos):\n",
    "    for j in range(N_nodos):\n",
    "        malla[i, j] = x_inicial + i * dx_elemento + j * dx_nodos\n",
    "    print(f'Nodos interiores de elemento {i}: {malla[i]} metros')\n",
    "malla = np.array(malla)"
   ]
  },
  {
   "cell_type": "markdown",
   "metadata": {},
   "source": [
    "## Condiciones Iniciales\n",
    "\n",
    "Las condiciones iniciales del fluido están dadas por:\n",
    "\n",
    "$$h_0 = 1 + 0.1 e^{-(x-5)^2}$$\n",
    "$$u_0 = 0$$\n",
    "\n",
    "Las fronteras del fluido están ubicadas en $x = 0$ y $x = 10$ metros.\n",
    "\n",
    "**Ejercicio 2:** Crea dos arrays de numpy que contengan las condiciones iniciales:\n",
    "\n",
    "1. El primer array debe llamarse `h` y tener la forma `(N_elementos, N_nodos)`. `h[i,j]` representará la altura en metros del fluido en el nodo $j$ del elemento $i$.\n",
    "2. El segundo array debe llamarse `u` y tener la forma `(N_elementos, N_nodos)`. `u[i,j]` representará la velocidad en metros por segundo del fluido en el nodo $j$ del elemento $i$."
   ]
  },
  {
   "cell_type": "code",
   "execution_count": 5,
   "metadata": {},
   "outputs": [],
   "source": [
    "# Generando condiciones iniciales\n",
    "h = np.zeros((N_elementos, N_nodos)) # Height (cm)\n",
    "u = np.zeros((N_elementos, N_nodos)) # Velocity (cm/s)\n",
    "\n",
    "#-----------------------------------------------------------------------------------------\n",
    "# Escribe tu solucion al ejercicio 2 a continuacion ...\n",
    "\n",
    "\n",
    "\n",
    "\n",
    "#-----------------------------------------------------------------------------------------\n",
    "\n",
    "# Solucion\n",
    "h = 1.0 + 0.1 * np.exp( - ( malla - 5.0 )**2 ) # Height (cm)\n",
    "u = malla * 0.0 # Velocity (cm/s)"
   ]
  },
  {
   "cell_type": "markdown",
   "metadata": {},
   "source": [
    "### Ejecuta el siguiente código para comprobar que tu solución a los ejercicios 1 y 2 es válida. Como resultado, deberías ver la evolución temporal del fluido."
   ]
  },
  {
   "cell_type": "code",
   "execution_count": null,
   "metadata": {},
   "outputs": [
    {
     "data": {
      "image/png": "[encoded data removed]",
      "text/plain": [
       "<Figure size 1000x600 with 1 Axes>"
      ]
     },
     "metadata": {},
     "output_type": "display_data"
    },
    {
     "name": "stdout",
     "output_type": "stream",
     "text": [
      "Done\n"
     ]
    }
   ],
   "source": [
    "# generating reference space information\n",
    "gauss_weights, basis_values_at_gauss_quad, basis_values_x_derivative_at_gauss_quad, basis_values_at_nodes = basis.generate_reference_space(malla, n_puntos_cuadratura_gauss)\n",
    "\n",
    "# compute mass matrix M_ij = integral phi_i(x) phi_j(x) dx and return the inverse matrix of M_ij\n",
    "mass_matrix_inverse = evolve.compute_mass_matrix_inverse(malla, gauss_weights, basis_values_at_gauss_quad)\n",
    "\n",
    "# time step\n",
    "time_step = np.array(t_total/n_pasos) \n",
    "\n",
    "# evolving in time the PDE\n",
    "for number_of_t_step in np.arange(n_pasos):\n",
    "\n",
    "    # plotting\n",
    "    clear_output(wait=True)  # Clear the output of the current cell    \n",
    "    plt.figure(figsize=(10, 6))\n",
    "    plt.clf()  # Clear the current figure\n",
    "    for i in range(N_elementos):\n",
    "        plt.plot(malla[i], h[i], linestyle='-', marker='o')\n",
    "        plt.fill_between(malla[i], h[i], 0, color='blue')\n",
    "    plt.ylim(0.8, 1.12)\n",
    "    plt.xlim(0.0, 10.0)\n",
    "    # plt.gca().set_aspect('equal', adjustable='box')  \n",
    "    plt.xlabel('x (m)')\n",
    "    plt.ylabel('h (m)')\n",
    "    plt.title(f' t = {number_of_t_step*time_step:.2f} s')\n",
    "    # plt.legend()\n",
    "    # plt.grid(True)\n",
    "    plt.show()\n",
    "    time.sleep(0)  # Pause for a second to see the change\n",
    "\n",
    "    # Fordward euler time stepping method\n",
    "    h, u = integrator.euler_method( h, u, time_step, basis_values_at_gauss_quad, basis_values_x_derivative_at_gauss_quad, gauss_weights, malla, basis_values_at_nodes, mass_matrix_inverse)\n",
    "\n",
    "    # RK4 time stepping method\n",
    "    # h, u = integrator.rk4_method( h, u, time_step, basis_values_at_gauss_quad, basis_values_x_derivative_at_gauss_quad, gauss_weights, malla, basis_values_at_nodes, mass_matrix_inverse)\n",
    "\n",
    "print(f'Done')"
   ]
  },
  {
   "cell_type": "code",
   "execution_count": null,
   "metadata": {},
   "outputs": [],
   "source": []
  }
 ],
 "metadata": {
  "colab": {
   "authorship_tag": "ABX9TyOiZ5FoHnI6fIOeiyaRKkcu",
   "provenance": []
  },
  "kernelspec": {
   "display_name": "Python 3",
   "name": "python3"
  },
  "language_info": {
   "codemirror_mode": {
    "name": "ipython",
    "version": 3
   },
   "file_extension": ".py",
   "mimetype": "text/x-python",
   "name": "python",
   "nbconvert_exporter": "python",
   "pygments_lexer": "ipython3",
   "version": "3.11.9"
  }
 },
 "nbformat": 4,
 "nbformat_minor": 0
}
